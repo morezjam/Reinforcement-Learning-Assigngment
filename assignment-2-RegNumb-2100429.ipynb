{
 "cells": [
  {
   "cell_type": "markdown",
   "metadata": {
    "nbgrader": {
     "grade": false,
     "grade_id": "cell-c833698b7dad927d",
     "locked": true,
     "schema_version": 3,
     "solution": false,
     "task": false
    }
   },
   "source": [
    "\n",
    "# Assignment 2\n",
    "\n",
    "   ### Write your registration number here:\n",
    "\n",
    "    Upload your updated notebook with the title: Assignment-2-YourRegistrationNumber.ipynb"
   ]
  },
  {
   "cell_type": "markdown",
   "metadata": {},
   "source": [
    "**Deliverable is the completed notebook (no .pdf or images are needed) with your comments and the implemented functions.**\n",
    "The sections in this notebook are as follow:\n",
    "\n",
    "0. Environment and imports\n",
    "1. Discretisation of Action/State Space\n",
    "2. Implemementation of SARSA. I will provide this implementation so you can understand how the discretisations are used.\n",
    "3. *Task-1:* Q-learning: In here you will need to create the entire Q-learning implementation following a similar structure than for the case of SARSA\n",
    "4. *Task-2:* $n$-step SARSA: In here you you will need to create the entire $n$-stepo SARSA implementation following a similar structure than for the case of SARSA\n",
    "5. *Task-3:* REINFORCE: Assuming that you have a feature vector $x(a,s)$ implement the REINFORCE algorithm using the soft-max policy over the discretised actions . \n",
    "6. **PGT Only** *Task-4*: SARSA($\\lambda$): Implement the backward view of SARSA($\\lambda$). You will need to think about an appropriate feature vector."
   ]
  },
  {
   "cell_type": "markdown",
   "metadata": {
    "nbgrader": {
     "grade": false,
     "grade_id": "cell-7cf627dacfec200a",
     "locked": true,
     "schema_version": 3,
     "solution": false,
     "task": false
    }
   },
   "source": [
    "## 0. Environment and Imports\n",
    "\n",
    "The environment we will be dealing with is **the inverted pendulum.** \n",
    "\n",
    "![](https://miro.medium.com/max/1000/1*TNo3x9zDi1lVOH_3ncG7Aw.gif)\n",
    "\n",
    "To implement this environment, we will make use of the gym library."
   ]
  },
  {
   "cell_type": "code",
   "execution_count": 315,
   "metadata": {
    "nbgrader": {
     "grade": false,
     "grade_id": "cell-68ba542456c544d2",
     "locked": true,
     "schema_version": 3,
     "solution": false,
     "task": false
    }
   },
   "outputs": [],
   "source": [
    "import gym\n",
    "import numpy as np\n",
    "import random\n",
    "from tqdm.notebook import tqdm # to keep track of the progress\n",
    "from IPython.display import clear_output # Used to clear the ouput of a Jupyter cell.\n",
    "import matplotlib.pyplot as plt\n",
    "plt.style.use(['dark_background'])"
   ]
  },
  {
   "cell_type": "markdown",
   "metadata": {
    "nbgrader": {
     "grade": false,
     "grade_id": "cell-b9853bfaec1d8013",
     "locked": true,
     "schema_version": 3,
     "solution": false,
     "task": false
    }
   },
   "source": [
    "To check that the environment is working,  execute the following cell. A window with an animation of the pendulum should open, display some random actions, and close automatically."
   ]
  },
  {
   "cell_type": "code",
   "execution_count": 316,
   "metadata": {
    "nbgrader": {
     "grade": false,
     "grade_id": "cell-8e133fbe2615fd5b",
     "locked": true,
     "schema_version": 3,
     "solution": false,
     "task": false
    }
   },
   "outputs": [],
   "source": [
    "env = gym.make('Pendulum-v1').env\n",
    "\n",
    "state = env.reset()\n",
    "for _ in range(300):\n",
    "    env.render()\n",
    "    state, reward, done, _ = env.step(env.action_space.sample()) # take a random action\n",
    "env.close()"
   ]
  },
  {
   "cell_type": "markdown",
   "metadata": {
    "nbgrader": {
     "grade": false,
     "grade_id": "cell-f29246bdc3e421c0",
     "locked": true,
     "schema_version": 3,
     "solution": false,
     "task": false
    }
   },
   "source": [
    "The goal of this environment is to bring the pendulum into the upper neutral position, where the angle $\\theta = 0$ and the angular velocitiy $\\frac{\\text{d}}{\\text{d}t}\\theta=\\omega=0$. The reward function is already designed that way and does not need further specification. For further information about the environment you may refer to the code and documentation of OpenAI's `gym`:\n",
    "\n",
    "[Documentation of the gym pendulum](https://github.com/openai/gym/wiki/Pendulum-v1)\n",
    "\n",
    "[Pendulum environment in the gym Github repository](https://github.com/openai/gym/blob/master/gym/envs/classic_control/pendulum.py)"
   ]
  },
  {
   "cell_type": "markdown",
   "metadata": {
    "nbgrader": {
     "grade": false,
     "grade_id": "cell-8570b84cc28ffc4d",
     "locked": true,
     "schema_version": 3,
     "solution": false,
     "task": false
    }
   },
   "source": [
    "## 1. Discretisation of Action and State Space"
   ]
  },
  {
   "cell_type": "markdown",
   "metadata": {
    "nbgrader": {
     "grade": false,
     "grade_id": "cell-ee59383187979c94",
     "locked": true,
     "schema_version": 3,
     "solution": false,
     "task": false
    }
   },
   "source": [
    "The inverted pendulum comes with a continuous action and state space. Although it is possible to handle systems with these characteristics (for example with `Policy Gradient Methods`). This assignment will only focus on the discrete case. Therefore  we will represent the inverted pendulum within a discrete state / action space. For this, a discretisation is necessary.\n",
    "\n",
    "The pendulum has `three state` variables relating to the momentary angular position $\\theta$:\n",
    "\\begin{align*}\n",
    "x=\\begin{bmatrix}\n",
    "\\text{cos}(\\theta)\\\\\n",
    "\\text{sin}(\\theta)\\\\\n",
    "\\frac{\\text{d}}{\\text{d}t}\\theta\n",
    "\\end{bmatrix}\n",
    "\\in\n",
    "\\begin{bmatrix}\n",
    "[-1.0, 1.0]\\\\\n",
    "[-1.0, 1.0]\\\\\n",
    "[-8.0, 8.0]\n",
    "\\end{bmatrix},\n",
    "\\end{align*}\n",
    "\n",
    "and `one action` variable, which relates to the torque applied at the axis of rotation:\n",
    "\n",
    "$u = T \\in [-2.0 , 2.0 ]$\n",
    "\n",
    "After the discretisation, we want the system to be defined on sets of non-negative natural numbers:\n",
    "\n",
    "\\begin{align*}\n",
    "x_d=\n",
    "\\text{discretise_state}(x)\n",
    "\\in\n",
    "\\begin{bmatrix}\n",
    "\\{0,1,2,...,d_{\\theta}-1\\}\\\\\n",
    "\\{0,1,2,...,d_{\\theta}-1\\}\\\\\n",
    "\\{0,1,2,...,d_{\\omega}-1\\}\n",
    "\\end{bmatrix},\n",
    "\\end{align*}\n",
    "\n",
    "\n",
    "$\n",
    "u_d=\n",
    "\\text{discretise_action}(u)\n",
    "\\in\n",
    "\\{0,1,2,...,d_{T}-1\\}.\n",
    "$\n",
    "\n",
    "The `step()` function of the environment receives a `continuous` action, therefore we need to transform our discrete action space, into a continuous one:\n",
    "\n",
    "$\n",
    "u=\n",
    "\\text{continualsze_action}(u_d):\n",
    "\\{0,1,2,...,d_{T}-1\\} \\rightarrow [-2, 2]\n",
    ".\n",
    "$\n",
    "\n",
    "   The procedure will be as follows: `env.state()` generates a `continuous` state, we need to turn that state into a discrete one `disc_state`, using our policy we will obtain an associated discrete action `disc_action`, we will transform it into a continuous action `action`, use the function `env.step(action)` and we will obtain the respective new (continuous) state, reward and whether we have finished or not. If we haven't finished, we repeate the process."
   ]
  },
  {
   "cell_type": "markdown",
   "metadata": {
    "nbgrader": {
     "grade": false,
     "grade_id": "cell-28b6b992373b4a65",
     "locked": true,
     "schema_version": 3,
     "solution": false,
     "task": false
    }
   },
   "source": [
    "A parametrization of $d_\\theta = d_\\omega = d_T = 15$ can be used to yield satisfactory results in this exercise (at least for $n$-step SARSA).\n",
    "Any other `odd` number should work too, but it is unclear which one is the best. `Even` have an issue that we will discuss a bit later."
   ]
  },
  {
   "cell_type": "markdown",
   "metadata": {
    "nbgrader": {
     "grade": false,
     "grade_id": "cell-cfd4a4f7a22ce35c",
     "locked": true,
     "schema_version": 3,
     "solution": false,
     "task": false
    }
   },
   "source": [
    "### 1.1 Discretisation - Continualisation"
   ]
  },
  {
   "cell_type": "markdown",
   "metadata": {
    "nbgrader": {
     "grade": true,
     "grade_id": "cell-cf67ba4807c7ce8c",
     "locked": false,
     "points": 0,
     "schema_version": 3,
     "solution": true,
     "task": false
    }
   },
   "source": [
    "The number of discretisation intervals can in fact make a difference in this case. The inverted pendulum can be considered as solved when brought into the upper neutral position $\\theta=0, \\omega=0$. The state as given by `gym` would therefore be:\n",
    "\n",
    "\\begin{align*}\n",
    "x_\\text{neutral}=\n",
    "\\begin{bmatrix}\n",
    "\\text{cos}(0)\\\\\n",
    "\\text{sin}(0)\\\\\n",
    "0\n",
    "\\end{bmatrix}\n",
    "=\n",
    "\\begin{bmatrix}\n",
    "1\\\\\n",
    "0\\\\\n",
    "0\n",
    "\\end{bmatrix},\\quad\n",
    "u_\\text{neutral}=0\n",
    "\\end{align*}\n",
    "\n",
    "Consequently, the discretisation / continualisation should allow for precise transformation of this state, which is given when assuming an `odd` number of discretization intervals. If one uses an `even` number of intervals, one interval boundary will be located exactly at zero, potentially leading to rapid bouncing around the neutral position."
   ]
  },
  {
   "cell_type": "code",
   "execution_count": 317,
   "metadata": {
    "nbgrader": {
     "grade": false,
     "grade_id": "cell-af38d4d166803785",
     "locked": false,
     "schema_version": 3,
     "solution": true,
     "task": false
    }
   },
   "outputs": [],
   "source": [
    "d_T = 15  # number of discrete actions\n",
    "d_theta = 15 # 2$pi$/15\n",
    "d_omega = 15 \n",
    "\n",
    "def discretise_state(states):   \n",
    "    \n",
    "    limits = [1, 1, 8]\n",
    "    num_disc_intervals = [d_theta, d_theta, d_omega]\n",
    "    \n",
    "    q_intervals = [np.linspace(-l, l, i+1) for l, i in zip(limits, num_disc_intervals)]\n",
    "    return np.array([np.digitize(s, q).clip(max=q.size - 1) - 1 for s, q in zip(states, q_intervals)], \n",
    "                    dtype=int)  # int is necessary for indexing\n",
    "    \n",
    "    \n",
    "def continualise_action(disc_action):    \n",
    "    \n",
    "    limit = 2\n",
    "    interval_length = 2 / (d_T-1)\n",
    "    norm_action = disc_action * interval_length\n",
    "    cont_action = (norm_action - 1) * limit\n",
    "    return np.array(cont_action).flatten()\n"
   ]
  },
  {
   "cell_type": "markdown",
   "metadata": {
    "nbgrader": {
     "grade": false,
     "grade_id": "cell-54296429c6a25f98",
     "locked": true,
     "schema_version": 3,
     "solution": false,
     "task": false
    }
   },
   "source": [
    "Let's see those two functions in action:"
   ]
  },
  {
   "cell_type": "code",
   "execution_count": 318,
   "metadata": {
    "nbgrader": {
     "grade": false,
     "grade_id": "cell-755b0b9277910870",
     "locked": true,
     "schema_version": 3,
     "solution": false,
     "task": false
    }
   },
   "outputs": [
    {
     "name": "stdout",
     "output_type": "stream",
     "text": [
      "discrete action: 13, continuous action: [1.71428571]\n",
      "discrete state: [ 7 14  8], continuous state: [-0.01065125  0.99994326  0.83843154]\n",
      "discrete action: 9, continuous action: [0.57142857]\n",
      "discrete state: [ 6 14  9], continuous state: [-0.09421667  0.9955517   1.6741033 ]\n"
     ]
    }
   ],
   "source": [
    "env = gym.make('Pendulum-v1').env\n",
    "state = env.reset()\n",
    "for _ in range(2):\n",
    "    disc_action = np.random.choice(range(d_T))\n",
    "    cont_action = continualise_action(disc_action)\n",
    "    print(\"discrete action: {}, continuous action: {}\".format(disc_action, cont_action))\n",
    "    \n",
    "    state, reward, done, _ = env.step(cont_action) # take a random action\n",
    "    disc_state = discretise_state(state)\n",
    "    print(\"discrete state: {}, continuous state: {}\".format(disc_state, state))\n",
    "    \n",
    "env.close()"
   ]
  },
  {
   "cell_type": "markdown",
   "metadata": {
    "nbgrader": {
     "grade": true,
     "grade_id": "cell-7050729ab9b288bc",
     "locked": false,
     "points": 0,
     "schema_version": 3,
     "solution": true,
     "task": false
    }
   },
   "source": [
    "### 1.2 Discretisation Diagrams"
   ]
  },
  {
   "cell_type": "code",
   "execution_count": 319,
   "metadata": {
    "nbgrader": {
     "grade": true,
     "grade_id": "cell-191ecd76d4787fb5",
     "locked": false,
     "points": 0,
     "schema_version": 3,
     "solution": true,
     "task": false
    },
    "scrolled": false
   },
   "outputs": [
    {
     "data": {
      "image/png": "[encoded data removed]",
      "text/plain": [
       "<Figure size 432x288 with 1 Axes>"
      ]
     },
     "metadata": {},
     "output_type": "display_data"
    },
    {
     "data": {
      "image/png": "[encoded data removed]",
      "text/plain": [
       "<Figure size 432x288 with 1 Axes>"
      ]
     },
     "metadata": {},
     "output_type": "display_data"
    },
    {
     "data": {
      "image/png": "[encoded data removed]",
      "text/plain": [
       "<Figure size 432x288 with 1 Axes>"
      ]
     },
     "metadata": {},
     "output_type": "display_data"
    }
   ],
   "source": [
    "cos_theta = np.linspace(-1, 1, 1000)\n",
    "sin_theta = np.linspace(-1, 1, 1000)\n",
    "omega = np.linspace(-8, 8, 1000)\n",
    "T = np.arange(0, d_T, 1)\n",
    "\n",
    "disc_states = np.array([discretise_state(np.array([c, s, o])) for c, s, o in zip(cos_theta, sin_theta, omega)])\n",
    "cont_actions = [continualise_action(np.array(t)) for t in T]\n",
    "\n",
    "plt.plot(cos_theta, disc_states[:, 0])\n",
    "plt.xlabel(r\"cos$(\\theta)$, sin$(\\theta)$\")\n",
    "plt.ylabel(r\"cos${}_d$, sin${}_d$\")\n",
    "plt.grid()\n",
    "plt.show()\n",
    "plt.plot(omega, disc_states[:, 2])\n",
    "plt.xlabel(r\"$\\omega / \\frac{1}{\\mathrm{s}}$\")\n",
    "plt.ylabel(r\"$\\omega_d$\")\n",
    "plt.grid()\n",
    "plt.show()\n",
    "plt.plot(T, cont_actions, 'o-')\n",
    "plt.xlabel(r\"$T_d$\")\n",
    "plt.ylabel(r\"$T / \\mathrm{N} \\cdot \\mathrm{m}$\")\n",
    "plt.grid()\n",
    "plt.show()"
   ]
  },
  {
   "cell_type": "code",
   "execution_count": 320,
   "metadata": {},
   "outputs": [],
   "source": [
    "def tester(policy):\n",
    "    env = gym.make('Pendulum-v1').env\n",
    "    import time\n",
    "\n",
    "    nb_steps = 400\n",
    "\n",
    "    state = env.reset() # initialize s_0 (a continuous state)\n",
    "    disc_state = tuple(discretise_state(state)) # discretise the state and assign it as a tuple (useful for $n$-step SARSA)\n",
    "    disc_action = policy[disc_state] #select the respective discrete action\n",
    "\n",
    "    for k in range(nb_steps):\n",
    "        \n",
    "        cont_action = continualise_action(disc_action)    # transform the discrete action into a continuous one\n",
    "        env.render() \n",
    "        time.sleep(0.005)\n",
    "        next_state, reward, done, _ = env.step(cont_action)   # use the continuous actions for the transitions\n",
    "        disc_next_state = tuple(discretise_state(next_state))  # discretise the next state\n",
    "        \n",
    "        if done:\n",
    "            break\n",
    "        \n",
    "        disc_action = policy[disc_next_state] # get the next discrete action, and repeat.\n",
    "    \n",
    "    env.close()"
   ]
  },
  {
   "cell_type": "code",
   "execution_count": 321,
   "metadata": {},
   "outputs": [],
   "source": [
    "def plot_rewards(cum_rew, method=None):\n",
    "    plt.plot(cum_rew)\n",
    "    plt.xlabel(\"episode\")\n",
    "    plt.ylabel(r\"$\\sum R$\")\n",
    "    plt.title(method)\n",
    "    plt.show()"
   ]
  },
  {
   "cell_type": "markdown",
   "metadata": {},
   "source": [
    "## 2. SARSA\n",
    "\n",
    "In the following I provide a SARSA implementation for the environment, to teach you how to use the discretisations/continualisation."
   ]
  },
  {
   "cell_type": "code",
   "execution_count": 322,
   "metadata": {},
   "outputs": [],
   "source": [
    "def sarsa(env, num_episodes, alpha, epsilon, gamma=1.0, decay=0.99995):\n",
    "\n",
    "    Q = np.zeros([d_theta, d_theta, d_omega, d_T])\n",
    "    policy = np.zeros((d_theta, d_theta, d_omega), dtype=int)\n",
    "    cumulative_reward_history = [] # we can use this to figure out how well the learning worked\n",
    "\n",
    "    for i_episode in tqdm(range(num_episodes)):\n",
    "        # monitor progress\n",
    "        \n",
    "        state = env.reset()# start episode\n",
    "        disc_state = tuple(discretise_state(state))\n",
    "        disc_action = np.random.choice(np.arange(d_T))\n",
    "\n",
    "    \n",
    "        epsilon *= decay\n",
    "        alpha *= decay\n",
    "        rewards = []\n",
    "        \n",
    "        for _ in range(num_steps):\n",
    "            cont_action = continualise_action(disc_action)\n",
    "            next_state, reward, done, info = env.step(cont_action) # take action A, observe R, S'\n",
    "            next_disc_state = tuple(discretise_state(next_state))\n",
    "            rewards.append(reward)\n",
    "            if not done:\n",
    "                if np.random.uniform(0,1)<epsilon:\n",
    "                    next_disc_action = np.random.choice(range(d_T))\n",
    "                else:\n",
    "                    next_disc_action = policy[next_disc_state] # epsilon-greedy action\n",
    "                Q[disc_state][disc_action]  += alpha*(reward+ gamma*Q[next_disc_state][next_disc_action] - Q[disc_state][disc_action])\n",
    "                policy[disc_state] = np.argmax(Q[disc_state])\n",
    "                disc_state = next_disc_state     # S <- S'\n",
    "                disc_action = next_disc_action   # A <- A'\n",
    "            if done:\n",
    "                Q[disc_state][disc_action] += alpha*(reward-Q[disc_state][disc_action])  #reached terminal state\n",
    "                policy[disc_state] = np.argmax(Q[disc_state])\n",
    "                break\n",
    "        cumulative_reward_history.append(np.sum(rewards))\n",
    "     \n",
    "    return Q, policy,cumulative_reward_history"
   ]
  },
  {
   "cell_type": "markdown",
   "metadata": {},
   "source": [
    "### Setting the parameters for the experiments.\n",
    "Use the following parameters: $\\alpha=0.1, \\gamma=0.9, \\epsilon=0.1$.\n",
    "\n",
    "To really **test** the performance of the methods you should set them as follow:\n",
    "\n",
    "- For `SARSA`: `num_episodes = 5000` and `num_steps = 500`\n",
    "- For `Q-Learning`: `num_episodes = 10000` and `num_steps = 500`\n",
    "- For `$n$-step SARSA`: `num_episodes = 3000` and `num_steps = 500`. Try $n=10$ for example.\n",
    "- For `REINFORCE` and `SARSA($\\lambda$)`: `num_episodes = 5000` and `num_steps = 100` should work (if you find a suitable feature vector).\n",
    "\n",
    "For **checking** that your algorithms are doing what they intend to do, use `num_episodes = 200` and `num_steps = 50`, otherwise it will take you too long.\n",
    "\n"
   ]
  },
  {
   "cell_type": "code",
   "execution_count": 323,
   "metadata": {},
   "outputs": [],
   "source": [
    "env = gym.make('Pendulum-v1').env\n",
    "\n",
    "\n",
    "alpha = 0.1 # learning rate\n",
    "gamma = 0.9 # discount factor\n",
    "epsilon = 0.1 # epsilon greedy parameter\n",
    "\n",
    "num_episodes = 200 # number of episodes\n",
    "num_steps = 50 # length of episodes"
   ]
  },
  {
   "cell_type": "code",
   "execution_count": 324,
   "metadata": {},
   "outputs": [
    {
     "data": {
      "application/vnd.jupyter.widget-view+json": {
       "model_id": "80c2d28e29d2404f9024a0538baf7995",
       "version_major": 2,
       "version_minor": 0
      },
      "text/plain": [
       "  0%|          | 0/200 [00:00<?, ?it/s]"
      ]
     },
     "metadata": {},
     "output_type": "display_data"
    }
   ],
   "source": [
    "Q_sarsa,policy_sarsa, cum_rew_sarsa = sarsa(env, num_episodes, alpha, epsilon, gamma, decay=1)#0.99995)\n",
    "env.close()\n",
    "\n"
   ]
  },
  {
   "cell_type": "code",
   "execution_count": 325,
   "metadata": {},
   "outputs": [
    {
     "data": {
      "image/png": "[encoded data removed]",
      "text/plain": [
       "<Figure size 432x288 with 1 Axes>"
      ]
     },
     "metadata": {},
     "output_type": "display_data"
    }
   ],
   "source": [
    "plot_rewards(cum_rew_sarsa, method='sarsa')"
   ]
  },
  {
   "cell_type": "code",
   "execution_count": 326,
   "metadata": {},
   "outputs": [],
   "source": [
    "tester(policy_sarsa)"
   ]
  },
  {
   "cell_type": "markdown",
   "metadata": {
    "nbgrader": {
     "grade": false,
     "grade_id": "cell-2575b2d2065717a7",
     "locked": true,
     "schema_version": 3,
     "solution": false,
     "task": false
    }
   },
   "source": [
    "## 3. *Task-1:* Q-Learning"
   ]
  },
  {
   "cell_type": "markdown",
   "metadata": {
    "nbgrader": {
     "grade": false,
     "grade_id": "cell-71c349849a7bdad7",
     "locked": true,
     "schema_version": 3,
     "solution": false,
     "task": false
    }
   },
   "source": [
    "- **UG**: 40 marks\n",
    "- **PG**: 35 marks"
   ]
  },
  {
   "cell_type": "markdown",
   "metadata": {
    "nbgrader": {
     "grade": true,
     "grade_id": "cell-877e2e0ac6a7510e",
     "locked": false,
     "points": 0,
     "schema_version": 3,
     "solution": true,
     "task": false
    }
   },
   "source": [
    "Create function `q_learning` that receives as input \n",
    "1. `env`, \n",
    "2. `num_episodes`, \n",
    "3. `alpha`, \n",
    "4. `epsilon`, \n",
    "5. `gamma`, \n",
    "6. `decay`\n",
    "\n",
    "And it returns the `Q` values, the respective final `policy` and cumulative `rewards`.\n",
    "Follow the structure of `SARSA` as defined above, and what we did in the Lab-6. Check also the pseudo-code in the textbook [http://www.incompleteideas.net/book/RLbook2020.pdf ](Reinforcement Learning: an Introduction) Page 131."
   ]
  },
  {
   "cell_type": "code",
   "execution_count": 327,
   "metadata": {},
   "outputs": [],
   "source": [
    "def q_learning(env, num_episodes, alpha, epsilon, gamma=1.0, decay=0.99995):\n",
    "    \n",
    "    #intialization\n",
    "    \n",
    "    Q = np.zeros([d_theta, d_theta, d_omega, d_T])\n",
    "    policy = np.zeros((d_theta, d_theta, d_omega), dtype=int)\n",
    "    cumulative_reward_history = [] # we can use this to figure out how well the learning worked\n",
    "    \n",
    "    for i_episode in tqdm(range(num_episodes)):\n",
    "        \n",
    "        #discretization\n",
    "        state = env.reset()\n",
    "        disc_state = tuple(discretise_state(state))\n",
    "        disc_action = np.random.choice(np.arange(d_T))\n",
    "\n",
    "        #applying decay coefficient on epsilon and alpha\n",
    "        epsilon *= decay\n",
    "        alpha *= decay\n",
    "        rewards = []\n",
    "        \n",
    "        for _ in range(num_steps):\n",
    "            #continualization of the action\n",
    "            cont_action = continualise_action(disc_action)\n",
    "            next_state, reward, done, info = env.step(cont_action)\n",
    "            next_disc_state = tuple(discretise_state(next_state))\n",
    "            rewards.append(reward)\n",
    "            # checking whether we reach the final state or not\n",
    "            # if we have not reached the final state, then we need to pick an action based on the policy\n",
    "            if not done:\n",
    "                if np.random.uniform(0,1)<epsilon:\n",
    "                    next_disc_action = np.random.choice(range(d_T))\n",
    "                else:\n",
    "                    next_disc_action = policy[next_disc_state]\n",
    "                # updating the q_learning Q vector and policy\n",
    "                Q[disc_state][disc_action]  += alpha*(reward+ gamma*Q[next_disc_state][next_disc_action] - Q[disc_state][disc_action])\n",
    "                policy[disc_state] = np.argmax(Q[disc_state])\n",
    "                disc_state = next_disc_state     # S := S+1\n",
    "            if done:\n",
    "                Q[disc_state][disc_action] += alpha*(reward-Q[disc_state][disc_action])  \n",
    "                #this is the terminal state so break and compute the cumlative reward\n",
    "                break\n",
    "        cumulative_reward_history.append(np.sum(rewards))\n",
    "    \n",
    "    \n",
    "    return Q, policy, cumulative_reward_history\n"
   ]
  },
  {
   "cell_type": "markdown",
   "metadata": {},
   "source": [
    "Write here the parameters you will use. For checking that your algorithm works well, you can use `num_episodes = 200` and `num_steps = 50`. But for checking their performance, `Q-Learning` requires more training: `num_episodes = 10000` and `num_steps = 500`."
   ]
  },
  {
   "cell_type": "code",
   "execution_count": 328,
   "metadata": {},
   "outputs": [],
   "source": [
    "env = gym.make('Pendulum-v1').env\n",
    "\n",
    "\n",
    "alpha = 0.1 # learning rate\n",
    "gamma = 0.9 # discount factor\n",
    "epsilon = 0.2 # epsilon greedy parameter\n",
    "\n",
    "num_episodes = 200 # number of episodes\n",
    "num_steps = 50 # length of episodes"
   ]
  },
  {
   "cell_type": "markdown",
   "metadata": {},
   "source": [
    "Call the function `q_learning` assigning it to some arrays. Then plot its cumulative rewards (with function `plot_rewards`) and run the environment (with function `tester`)"
   ]
  },
  {
   "cell_type": "code",
   "execution_count": 329,
   "metadata": {},
   "outputs": [
    {
     "data": {
      "application/vnd.jupyter.widget-view+json": {
       "model_id": "828b4b5f6f4e416da80d0c46168d61df",
       "version_major": 2,
       "version_minor": 0
      },
      "text/plain": [
       "  0%|          | 0/200 [00:00<?, ?it/s]"
      ]
     },
     "metadata": {},
     "output_type": "display_data"
    }
   ],
   "source": [
    "Q_q_learn,policy_q_learn, cum_rew_q_learn = q_learning(env, num_episodes, alpha, epsilon, gamma, decay=0.95)#0.99995)\n",
    "env.close()\n"
   ]
  },
  {
   "cell_type": "code",
   "execution_count": 330,
   "metadata": {},
   "outputs": [
    {
     "data": {
      "image/png": "[encoded data removed]",
      "text/plain": [
       "<Figure size 432x288 with 1 Axes>"
      ]
     },
     "metadata": {},
     "output_type": "display_data"
    }
   ],
   "source": [
    "plot_rewards(cum_rew_q_learn, method='q-learning')"
   ]
  },
  {
   "cell_type": "code",
   "execution_count": 331,
   "metadata": {},
   "outputs": [],
   "source": [
    "tester(policy_q_learn)"
   ]
  },
  {
   "cell_type": "markdown",
   "metadata": {},
   "source": [
    "## 4. *Task-2:* $n$-step SARSA\n",
    "- **UG:** 50 marks\n",
    "- **PG:** 40 marks"
   ]
  },
  {
   "cell_type": "markdown",
   "metadata": {},
   "source": [
    "Create function `n_step_sarsa` that receives as input \n",
    "1. `env`, \n",
    "2. `num_episodes`, \n",
    "3. `n`, \n",
    "4. `alpha`, \n",
    "5. `epsilon`, \n",
    "6. `gamma`, \n",
    "7. `decay`\n",
    "\n",
    "And it returns the `Q` values, the respective final `policy` and cumulative `rewards`."
   ]
  },
  {
   "cell_type": "markdown",
   "metadata": {},
   "source": [
    "Remember that for $n$-step methods, you need to accumulate the values of states visited, action taken and rewards received for $n$ steps. Take a look to Lab-6 for an idea on how to implement this. Check also the pseudo-code in the textbook [http://www.incompleteideas.net/book/RLbook2020.pdf ](Reinforcement Learning: an Introduction) Page 147."
   ]
  },
  {
   "cell_type": "code",
   "execution_count": 332,
   "metadata": {},
   "outputs": [],
   "source": [
    "def n_step_sarsa(env, num_episodes, n,  alpha, epsilon, gamma=1.0, decay=0.99995):\n",
    "    \n",
    "    #initialization\n",
    "    Q = np.zeros([d_theta, d_theta, d_omega, d_T])\n",
    "    policy = np.zeros((d_theta, d_theta, d_omega), dtype=int)\n",
    "    cumulative_reward_history = [] # we can use this to figure out how well the learning worked\n",
    "\n",
    "    for i_episode in tqdm(range(num_episodes)):\n",
    "        #choosing a random action and discretize both action and state\n",
    "        state = env.reset()\n",
    "        disc_state = tuple(discretise_state(state))\n",
    "        disc_action = np.random.choice(np.arange(d_T))\n",
    "\n",
    "    \n",
    "        epsilon *= decay\n",
    "        alpha *= decay\n",
    "        \n",
    "        #saving states,actions and reward\n",
    "        nstates, naction, nreward = [disc_state], [disc_action], [0.0]\n",
    "        t, T = 0, int(1e5)\n",
    "        \n",
    "        for _ in range(num_steps):\n",
    "            if t < T:\n",
    "                #take action A at time t, observe and store next state and next reward\n",
    "                cont_action = continualise_action(disc_action)\n",
    "                next_state, reward, done, info = env.step(cont_action)\n",
    "                next_disc_state = tuple(discretise_state(next_state))\n",
    "                nstates.append(next_disc_state)\n",
    "                nreward.append(reward)\n",
    "                if done: #if it's the terminal state\n",
    "                    T = t+1\n",
    "                else: # otherwise go for another action\n",
    "                    disc_action = np.random.choice(np.arange(d_T))\n",
    "                    naction.append(disc_action)\n",
    "                    policy[disc_state] = np.argmax(Q[disc_state])\n",
    "            tau = t-n+1\n",
    "            if tau>=0: # adding delay to updating\n",
    "                G = 0\n",
    "                for i in range(tau + 1, min(tau + n, T) + 1): \n",
    "                    G += (gamma**(i - tau - 1)) * nreward[i-1]\n",
    "                if tau+n<T:\n",
    "                    G += (gamma**(n)) * Q[nstates[tau+n]][naction[tau+n]]\n",
    "                Q[nstates[tau]][naction[tau]] += alpha*(G-Q[nstates[tau]][naction[tau]]) \n",
    "            t+=1\n",
    "            if tau==T-1:\n",
    "                break\n",
    "        cumulative_reward_history.append(np.sum(nreward))\n",
    "            \n",
    "    return Q, policy, cumulative_reward_history\n"
   ]
  },
  {
   "cell_type": "markdown",
   "metadata": {},
   "source": [
    "Write here the parameters you will use. For checking that your algorithm works well, you can use `num_episodes = 200` and `num_steps = 50`. But for checking their performance, `$n$-step SARSA` requires less training than the other two methods: `num_episodes = 3000` and `num_steps = 500`."
   ]
  },
  {
   "cell_type": "code",
   "execution_count": 333,
   "metadata": {},
   "outputs": [],
   "source": [
    "env = gym.make('Pendulum-v1').env\n",
    "\n",
    "n = 17 # number of steps we delay the updates \n",
    "alpha = 0.1 # learning rate\n",
    "gamma = 0.9 # discount factor\n",
    "epsilon = 0.1 # epsilon greedy parameter\n",
    "\n",
    "num_episodes = 201 # number of episodes\n",
    "num_steps = 53 # length of episodes"
   ]
  },
  {
   "cell_type": "markdown",
   "metadata": {},
   "source": [
    "Call the function `n_step_sarsa` assigning it to some arrays. Then plot its cumulative rewards (with function `plot_rewards`) and run the environment (with function `tester`)"
   ]
  },
  {
   "cell_type": "code",
   "execution_count": 334,
   "metadata": {},
   "outputs": [
    {
     "data": {
      "application/vnd.jupyter.widget-view+json": {
       "model_id": "00efd7bf14e14b0cbce1e69e065e66c6",
       "version_major": 2,
       "version_minor": 0
      },
      "text/plain": [
       "  0%|          | 0/201 [00:00<?, ?it/s]"
      ]
     },
     "metadata": {},
     "output_type": "display_data"
    }
   ],
   "source": [
    "Q_n_step_sarsa,policy_n_step_sarsa, cum_rew_n_step_sarsa = n_step_sarsa(env, num_episodes,n, alpha, epsilon, gamma, decay=1)#0.99995)\n",
    "env.close()"
   ]
  },
  {
   "cell_type": "code",
   "execution_count": 335,
   "metadata": {},
   "outputs": [
    {
     "data": {
      "image/png": "[encoded data removed]",
      "text/plain": [
       "<Figure size 432x288 with 1 Axes>"
      ]
     },
     "metadata": {},
     "output_type": "display_data"
    }
   ],
   "source": [
    "plot_rewards(cum_rew_n_step_sarsa, method='n-step sarsa')"
   ]
  },
  {
   "cell_type": "code",
   "execution_count": 336,
   "metadata": {},
   "outputs": [],
   "source": [
    "tester(policy_n_step_sarsa)"
   ]
  },
  {
   "cell_type": "markdown",
   "metadata": {},
   "source": [
    "## 5. *Task-3:* REINFORCE\n",
    "- **UG:** 10 marks\n",
    "- **PG:** 10 marks"
   ]
  },
  {
   "cell_type": "markdown",
   "metadata": {},
   "source": [
    "Here you will need to implement the method REINFORCE that receives as an input\n",
    "1. `env`, \n",
    "2. `num_episodes`, \n",
    "3. `alpha`, \n",
    "4. `gamma`, \n",
    "\n",
    "\n",
    "And returns\n",
    "1. `policy_grad`\n",
    "2. `cumulative_rewards`\n",
    "\n",
    " Check also the pseudo-code in the textbook [http://www.incompleteideas.net/book/RLbook2020.pdf ](Reinforcement Learning: an Introduction) Page 328. You DO NOT have to test it (since we have not seen how to implement the approximations for this method)"
   ]
  },
  {
   "cell_type": "code",
   "execution_count": 337,
   "metadata": {},
   "outputs": [],
   "source": [
    "def feature(s,a,d):\n",
    "    return np.ones(d)\n"
   ]
  },
  {
   "cell_type": "markdown",
   "metadata": {},
   "source": [
    "This is a function that you can use for your approximation, for any entry $(s,a,d)$ with $d$=dimension of the weights, it returns a vector (with $d$ components) of ones. \n",
    "\n",
    "**Task** Implement the function softmax defined by equation (13.2) in [http://www.incompleteideas.net/book/RLbook2020.pdf ]"
   ]
  },
  {
   "cell_type": "code",
   "execution_count": 338,
   "metadata": {},
   "outputs": [],
   "source": [
    "def soft_max(S,A,theta): # S and A should be vectors\n",
    "    e_x = np.exp(np.dot(S,A,theta) - np.max(np.dot(S,A,theta)))\n",
    "    return e_x / e_x.sum(axis=0)"
   ]
  },
  {
   "cell_type": "code",
   "execution_count": 339,
   "metadata": {},
   "outputs": [],
   "source": [
    "def reinforce(env, num_episodes, alpha, gamma):\n",
    "    theta = np.zeros([d_theta, d_theta, d_omega, d_T])\n",
    "    policy = np.zeros((d_theta, d_theta, d_omega), dtype=int)\n",
    "    cumulative_reward_history = [] # we can use this to figure out how well the learning worked\n",
    "\n",
    "    for i_episode in tqdm(range(num_episodes)):\n",
    "        \n",
    "        state = env.reset()\n",
    "        disc_state = tuple(discretise_state(state))\n",
    "        disc_action = np.random.choice(np.arange(d_T))\n",
    "        for _ in range(num_steps):\n",
    "            cont_action = continualise_action(disc_action)\n",
    "            next_state, reward, done, info = env.step(cont_action)\n",
    "            next_disc_state = tuple(discretise_state(next_state))\n",
    "            \n",
    "            # Computing gradient\n",
    "            \n",
    "            # Updating theta\n",
    "            \n",
    "            \n",
    "    return policy, cumulative_rewards"
   ]
  },
  {
   "cell_type": "markdown",
   "metadata": {},
   "source": [
    "## 6. (PGT Only) *Task-4*: SARSA($\\lambda$)\n",
    "- **PG:** 15 marks (10 for the implementation of the method, 5 if you test it in the enviroment)"
   ]
  },
  {
   "cell_type": "markdown",
   "metadata": {},
   "source": [
    "**Task** implement the pseudo code in page 305 in [http://www.incompleteideas.net/book/RLbook2020.pdf ]\n",
    "**Task** if you are able to define (explicitely) the feature vector, then you should test the policy using `plot_rewards()` and `tester()`"
   ]
  },
  {
   "cell_type": "code",
   "execution_count": 340,
   "metadata": {},
   "outputs": [],
   "source": [
    "def sarsa_lambda(env, num_episodes, discount=0.9, alpha=0.01, decay=1, epsilon=0.1, type='accumulate'):\n",
    "    \n",
    "    Q = np.zeros([d_theta, d_theta, d_omega, d_T])\n",
    "    E = np.zeros([d_theta, d_theta, d_omega, d_T])\n",
    "    \n",
    "    policy = np.zeros((d_theta, d_theta, d_omega), dtype=int)\n",
    "    cumulative_reward_history = []\n",
    "    epsilon *= decay\n",
    "    alpha *= decay\n",
    "    \n",
    "    rewards = [0.]\n",
    "    \n",
    "    for _ in tqdm(range(num_episodes)):\n",
    "    \n",
    "        state = env.reset()\n",
    "        disc_state = tuple(discretise_state(state))\n",
    "        disc_action = np.random.choice(np.arange(d_T))\n",
    "\n",
    "    \n",
    "        for _ in range(num_steps):\n",
    "    \n",
    "            cont_action = continualise_action(disc_action)\n",
    "            next_state, reward, done, info = env.step(cont_action)\n",
    "            next_disc_state = tuple(discretise_state(next_state))\n",
    "            rewards.append(reward)\n",
    "    \n",
    "            if np.random.uniform(0,1)<epsilon:\n",
    "                next_disc_action = np.random.choice(range(d_T))\n",
    "            else:\n",
    "                next_disc_action = policy[next_disc_state]\n",
    "            \n",
    "            policy[disc_state] = np.argmax(Q[disc_state])\n",
    "    \n",
    "            delta = reward + discount*Q[next_disc_state][next_disc_action] - Q[disc_state][disc_action]\n",
    "    \n",
    "    \n",
    "            E[disc_state][disc_action] += 1\n",
    "    \n",
    "            for s in range(len(Q)):\n",
    "                Q[s][:] += alpha * delta * E[s][:]\n",
    "                if type == 'accumulate':\n",
    "                    E[s][:] *= decay * discount\n",
    "                elif type == 'replace':\n",
    "                    if s == state:\n",
    "                        E[s][:] = 1\n",
    "                    else:\n",
    "                        E[s][:] *= discount * decay\n",
    "    \n",
    "            if done:\n",
    "                break\n",
    "    \n",
    "            disc_state = next_disc_state\n",
    "            disc_action = next_disc_action\n",
    "            \n",
    "            cumulative_reward_history.append(np.sum(rewards))\n",
    "        \n",
    "        return Q, policy, cumulative_reward_history"
   ]
  },
  {
   "cell_type": "code",
   "execution_count": 341,
   "metadata": {},
   "outputs": [],
   "source": [
    "env = gym.make('Pendulum-v1').env\n",
    "\n",
    "alpha = 0.1 # learning rate\n",
    "gamma = 0.9 # discount factor\n",
    "epsilon = 0.1 # epsilon greedy parameter\n",
    "\n",
    "num_episodes = 200 # number of episodes\n",
    "num_steps = 50 # length of episodes"
   ]
  },
  {
   "cell_type": "code",
   "execution_count": 342,
   "metadata": {},
   "outputs": [
    {
     "data": {
      "application/vnd.jupyter.widget-view+json": {
       "model_id": "cfab7288fdb846dfbbbac57ced773566",
       "version_major": 2,
       "version_minor": 0
      },
      "text/plain": [
       "  0%|          | 0/200 [00:00<?, ?it/s]"
      ]
     },
     "metadata": {},
     "output_type": "display_data"
    }
   ],
   "source": [
    "Qsl,psl,crsl = sarsa_lambda(env, num_episodes, gamma, alpha, epsilon)\n",
    "env.close()"
   ]
  },
  {
   "cell_type": "code",
   "execution_count": 343,
   "metadata": {},
   "outputs": [
    {
     "data": {
      "image/png": "[encoded data removed]",
      "text/plain": [
       "<Figure size 432x288 with 1 Axes>"
      ]
     },
     "metadata": {},
     "output_type": "display_data"
    }
   ],
   "source": [
    "plot_rewards(crsl, method='sarsa_lambda')"
   ]
  },
  {
   "cell_type": "code",
   "execution_count": 344,
   "metadata": {},
   "outputs": [],
   "source": [
    "tester(psl)"
   ]
  },
  {
   "cell_type": "code",
   "execution_count": null,
   "metadata": {},
   "outputs": [],
   "source": []
  }
 ],
 "metadata": {
  "celltoolbar": "Create Assignment",
  "kernelspec": {
   "display_name": "Python 3",
   "language": "python",
   "name": "python3"
  },
  "language_info": {
   "codemirror_mode": {
    "name": "ipython",
    "version": 3
   },
   "file_extension": ".py",
   "mimetype": "text/x-python",
   "name": "python",
   "nbconvert_exporter": "python",
   "pygments_lexer": "ipython3",
   "version": "3.8.8"
  }
 },
 "nbformat": 4,
 "nbformat_minor": 4
}
