{
 "cells": [
  {
   "cell_type": "markdown",
   "id": "ed1e2de6",
   "metadata": {},
   "source": [
    "# Assignment 1: MA338"
   ]
  },
  {
   "cell_type": "markdown",
   "id": "d5ef98b4",
   "metadata": {},
   "source": [
    "#### Instructions"
   ]
  },
  {
   "cell_type": "markdown",
   "id": "e3076872",
   "metadata": {},
   "source": [
    "1. This Notebook will provide you the Tasks you have to complete, include a couple of questions, and define the necessary functions that you could use.\n",
    "2. You have to submit your modified version of this Notebook to FASER. Write in the title **Assignment-1-RegNumb-#YOUR REGISTRATION NUMBER#.ipynb**\n",
    "3. You can include as many extra cells as you need to make some comments (remember selecting Markdown cell instead of Code cell)\n",
    "4. Adding extra (related) stuff could help with grade: For example some nice plots/drawing (you can insert images on Jupyter notebooks, but you need to attach the image in the submission).\n",
    "5. This notebook will have several sections associated to different tasks you have to complete. In each one of them I will provide what functions you need to complete (for example policy evaluation, value iteration...)\n",
    "6. If you prefer not to follow the suggested structure but decide to program it in a different way, you can do it, as long as you explain all the processes and complete all the tasks.\n",
    "    \n",
    "    "
   ]
  },
  {
   "cell_type": "markdown",
   "id": "1e1b0119",
   "metadata": {},
   "source": [
    "#### General libraries"
   ]
  },
  {
   "cell_type": "code",
   "execution_count": 1133,
   "id": "c9f9295f",
   "metadata": {},
   "outputs": [],
   "source": [
    "import gym\n",
    "import numpy as np # to work with mathematical operations\n",
    "import time # to reduce the speed of simulations\n",
    "import random # to randomly generate data\n",
    "import matplotlib.pyplot as plt # to plot\n",
    "from IPython.display import clear_output # Used to clearthe ouput of a Jupyter cell."
   ]
  },
  {
   "cell_type": "markdown",
   "id": "7301d581",
   "metadata": {},
   "source": [
    "Run these commands to download and install the latest version of GridWorld (if you already installed it for the Lab 2, it should be ok)\n",
    "\n",
    "```bash\n",
    "git clone https://github.com/andremht/gym-gridworld.git\n",
    "cd gym-gridworld\n",
    "pip3 install -e .\n",
    "```"
   ]
  },
  {
   "cell_type": "code",
   "execution_count": 1134,
   "id": "1efa4346",
   "metadata": {},
   "outputs": [],
   "source": [
    "import gym_gridworld"
   ]
  },
  {
   "cell_type": "markdown",
   "id": "efd6b40f",
   "metadata": {},
   "source": [
    "##### Utilities"
   ]
  },
  {
   "cell_type": "markdown",
   "id": "cb22e8a1",
   "metadata": {},
   "source": [
    "The following functions can be useful to run the agents that you will create, as well as display the results in the notebook."
   ]
  },
  {
   "cell_type": "code",
   "execution_count": 1135,
   "id": "7cc44bbf",
   "metadata": {},
   "outputs": [],
   "source": [
    "## The following function will be use to evaluate the different policies.\n",
    "# The environment env will define what type of grid we will use\n",
    "# Agent will be defined according different policies\n",
    "# tsleep is used to create slower iterations so we can see how the agent moves in the grid\n",
    "\n",
    "\n",
    "def run_agent(env, agent, tsleep = 0.05):\n",
    "    state = env.reset()\n",
    "    time_step = 0\n",
    "    total_reward = 0\n",
    "    reward = 0;\n",
    "    done = False\n",
    "    while not done:\n",
    "        action = agent.act(state, done);\n",
    "        state, reward, done, info = env.step(action)  # step is defined into the environment, and it provides the new state, the reward obtained, and whether we finished or not\n",
    "        total_reward += reward\n",
    "        time_step += 1\n",
    "        clear_output(wait=True)  # to have a different displayed result on the screen\n",
    "        env.render()    # this code displays the agent state and action\n",
    "        print(\"Time step:\", time_step)\n",
    "        print(\"State:\", state)\n",
    "        print(\"Action:\", action)\n",
    "        print(\"Total reward:\", total_reward)\n",
    "        time.sleep(tsleep)  # to delay the transitions"
   ]
  },
  {
   "cell_type": "code",
   "execution_count": 1136,
   "id": "0f726374",
   "metadata": {},
   "outputs": [],
   "source": [
    "#This function will an array and turn it into the grid format, and then plot the value function with a colourmap \n",
    "\n",
    "def plot_values(VF, size= (5,5), name = None):\n",
    "# reshape value function according to the size of the grid (rows and columns)\n",
    "    VF_grid = np.reshape(VF, size)\n",
    "\n",
    "# plot the state-value function\n",
    "    fig = plt.figure(figsize=(8, 8))\n",
    "    ax = fig.add_subplot(111)\n",
    "    im = ax.imshow(VF_grid, cmap='cool')\n",
    "    fig.colorbar(im, ax=ax)   #  colourbar to indicate which is higher and lower\n",
    "    for (j,i),label in np.ndenumerate(VF_grid):\n",
    "        ax.text(i, j, np.round(label, 5), ha='center', va='center', fontsize=14)\n",
    "    plt.tick_params(bottom=False, left=False, labelbottom=False, labelleft=False)\n",
    "    plt.title(name+'-Value Function')\n",
    "    if name == 'Policy':\n",
    "            plt.title(name)\n",
    "    plt.show()"
   ]
  },
  {
   "cell_type": "markdown",
   "id": "a111817d",
   "metadata": {},
   "source": [
    "We can try some examples for the function plot_values, so you can have an idea what it does"
   ]
  },
  {
   "cell_type": "code",
   "execution_count": 1137,
   "id": "d25c5cec",
   "metadata": {},
   "outputs": [],
   "source": [
    "Q = [1,3,4,6,20,4,1,5]\n",
    "Q = np.array(Q)\n",
    "V= 2*np.round(np.random.random_sample((16,)),2)+3"
   ]
  },
  {
   "cell_type": "code",
   "execution_count": 1138,
   "id": "1ffad37a",
   "metadata": {},
   "outputs": [
    {
     "data": {
      "image/png": "[encoded data removed]",
      "text/plain": [
       "<Figure size 576x576 with 2 Axes>"
      ]
     },
     "metadata": {
      "needs_background": "light"
     },
     "output_type": "display_data"
    },
    {
     "data": {
      "image/png": "[encoded data removed]",
      "text/plain": [
       "<Figure size 576x576 with 2 Axes>"
      ]
     },
     "metadata": {
      "needs_background": "light"
     },
     "output_type": "display_data"
    }
   ],
   "source": [
    "plot_values(V,size=(4,4), name='State')\n",
    "plot_values(Q, size=(4,2), name='Action')"
   ]
  },
  {
   "cell_type": "markdown",
   "id": "c5196679",
   "metadata": {},
   "source": [
    "***\n",
    "### Key variables in RL and OpenAI Gym\n",
    "\n",
    "For this assignment we will explore two variants of the Gridworld. The first one `'GridWorld-3x3-Wall-v0'` is a grid of 3x3 and contains a wall in some cells that do not allow to move on those directions. The second one is known as `FrozenLake-v1` which contains a few cells with holes that once the agent step on it, it drowns and the episode finishes. We will give more details once we start working with them. In the meantime a few reminders on OpenAI Gym variables.\n",
    "\n",
    "* __Agent__: The learner and decision maker. This is a class you should create.\n",
    "* __Environment__:  What the agent interacts with. This is the variable `env` in `env = gym.make(version of gridworld)`. In GridWorld, a particularly important variable is `env.P`, which contains the Markov process model of the system. This variable encodes the state transition probabilities, rewards, and other information. \n",
    "* __State__: A state $s \\in \\mathcal{S}$ is a succinct representation of the environments current state. The current sate can be obtained by `env.s`\n",
    "* __Action__: The agent can take actions $a \\in \\mathcal{A}$ in order to change the state of the environment. It is an element of `env.action_space`.\n",
    "* __Policy__: Rules for how the agent choses the next action given the current state, $a = \\pi(s)$.\n",
    "* __Reward__: An immediate reward $R(s,a)$ that the agent gets for taking action $a$ in state $s$. A reward depends on a state and action, so it can only be obtain through the `step` function, which in turn updates the environments state.\n",
    "\n"
   ]
  },
  {
   "cell_type": "markdown",
   "id": "1d649e45",
   "metadata": {},
   "source": [
    "##  Dynamic Programming\n",
    "\n",
    "#### GridWorld 3x3 with a Wall."
   ]
  },
  {
   "cell_type": "code",
   "execution_count": 1139,
   "id": "64ec1bc7",
   "metadata": {},
   "outputs": [
    {
     "name": "stdout",
     "output_type": "stream",
     "text": [
      "Initial state: 6\n",
      "State space: Discrete(9)\n",
      "Action space: Discrete(4)\n",
      "\n",
      "FFF\n",
      "FWF\n",
      "\u001b[41mS\u001b[0mWG\n"
     ]
    }
   ],
   "source": [
    "env_GW = gym.make('GridWorld-3x3-Wall-v0')\n",
    "state = env_GW.reset()  #will set the agent into a random initial state\n",
    "print('Initial state:', state) #reminder: python starts counting from 0\n",
    "print(\"State space:\", env_GW.observation_space) # observations and states will be the same for us in this module\n",
    "print(\"Action space:\", env_GW.action_space) # all the available actions and their type: discrete or continuous\n",
    "env_GW.render()"
   ]
  },
  {
   "cell_type": "markdown",
   "id": "c303e3b0",
   "metadata": {},
   "source": [
    "__State space__: We see that the state space contains 9 discrete states. In this case each state corresponds to a position of the agent (3x3=9 possibilities).  \n",
    "But some of those states are not accesible, since there is a wall on them (states *4* and *7*.\n",
    "State *6* is the starting point **S**, and state *8* is the goal **G**. \n",
    "\n",
    "__Action space__: The 4 discrete actions corresponds to: 0 - Left, 1 - Down, 2 - Right, 3 - Up. "
   ]
  },
  {
   "cell_type": "code",
   "execution_count": 1140,
   "id": "9674fb11",
   "metadata": {},
   "outputs": [
    {
     "name": "stdout",
     "output_type": "stream",
     "text": [
      "  (Right)\n",
      "FFF\n",
      "FWF\n",
      "\u001b[41mS\u001b[0mWG\n",
      "New state: 6\n",
      "Reward: -1.0\n",
      "Done: False\n"
     ]
    }
   ],
   "source": [
    "new_state, reward, done, info = env_GW.step(2) # Take action 3 (Up)\n",
    "env_GW.render() #displays the results\n",
    "print(\"New state:\", new_state)\n",
    "print(\"Reward:\", reward)\n",
    "print(\"Done:\", done)"
   ]
  },
  {
   "cell_type": "markdown",
   "id": "6259e7d6",
   "metadata": {},
   "source": [
    "We define now a uniform random agent (that does not learn, only acts)"
   ]
  },
  {
   "cell_type": "code",
   "execution_count": 1141,
   "id": "df2bddf9",
   "metadata": {},
   "outputs": [],
   "source": [
    "class RandomAgent(object):\n",
    "    def __init__(self, nA, nS):\n",
    "        self.nA = nA\n",
    "        self.nS = nS\n",
    "        self.probs = np.ones((self.nS,self.nA))/self.nA #uniformly random probability (0.25 to each option)\n",
    "        \n",
    "\n",
    "    def act(self, state, done):\n",
    "        # IMPORTANT: the following code allows to select randomly an action, given a probability distribution p\n",
    "        action = np.random.choice(np.arange(self.nA), p=self.probs[state], replace = False) \n",
    "        return action # a random policy"
   ]
  },
  {
   "cell_type": "code",
   "execution_count": 1142,
   "id": "9569b696",
   "metadata": {},
   "outputs": [],
   "source": [
    "agent_uniform = RandomAgent(env_GW.nA, env_GW.nS) #an instantiation of an agent of the class RandomAgent"
   ]
  },
  {
   "cell_type": "code",
   "execution_count": 1143,
   "id": "570e48cc",
   "metadata": {},
   "outputs": [
    {
     "name": "stdout",
     "output_type": "stream",
     "text": [
      "  (Down)\n",
      "FFF\n",
      "FWF\n",
      "SW\u001b[41mG\u001b[0m\n",
      "Time step: 27\n",
      "State: 8\n",
      "Action: 1\n",
      "Total reward: -27.0\n"
     ]
    }
   ],
   "source": [
    "run_agent(env_GW, agent_uniform, tsleep = 0.05)"
   ]
  },
  {
   "cell_type": "markdown",
   "id": "089b9587",
   "metadata": {},
   "source": [
    "*Remark*: notice that in this grid we can easily spot the optimal policy, but a random agent struggles to find it. "
   ]
  },
  {
   "cell_type": "markdown",
   "id": "4884fadd",
   "metadata": {},
   "source": [
    "### Task 1.1: Bellman Equation"
   ]
  },
  {
   "cell_type": "markdown",
   "id": "c74b9caf",
   "metadata": {},
   "source": [
    "The following functions will help you to write the Bellman Equation for $v_{\\pi}$ in a iterative way. \n",
    "\n",
    "**Your task here is to write down the respective pseudo code for each function, or alternatively, the equations or backup diagrams associated. You can either write it directly here using LaTeX, or include an image in your submission.**"
   ]
  },
  {
   "cell_type": "code",
   "execution_count": 1144,
   "id": "f45a80b5",
   "metadata": {},
   "outputs": [
    {
     "name": "stdout",
     "output_type": "stream",
     "text": [
      "\n"
     ]
    }
   ],
   "source": [
    "'''\n",
    "Function Q_from_V(environment, state, V)\n",
    "    {\n",
    "        action_values:= 1 x action_number vector of zeros\n",
    "        \n",
    "        for each action A do\n",
    "        \n",
    "            {\n",
    "                action_values[A] := compute the summation of p*(reward+ GAMMA * V[state'])\n",
    "            }\n",
    "        \n",
    "        return action_values\n",
    "    }\n",
    "    \n",
    "    \n",
    "    \n",
    "Function weighted_action_value(environment, agent, action_values, state)\n",
    "    {\n",
    "        for each action A do\n",
    "            {\n",
    "                result:= compute the summation of P(state|A) * value of the action\n",
    "            }\n",
    "        \n",
    "        return result\n",
    "    }\n",
    "    \n",
    "\n",
    "Function Bellman_equation_RHS(environment, agent, old_V)\n",
    "    {\n",
    "        V:= 1 x number_of_states zero vector\n",
    "        \n",
    "        for each state s \n",
    "            {\n",
    "                if we are at terminal node then V[s] := 0\n",
    "                \n",
    "                otherwise\n",
    "            \n",
    "                    action_values := Q_from_V(environment, s, old_V)\n",
    "                    V[s] := weighted_action_value(environment, agent, action_values, s)\n",
    "    \n",
    "            }\n",
    "       \n",
    "        \n",
    "        return V\n",
    "        \n",
    "        \n",
    "    }\n",
    "\n",
    "'''\n",
    "print(\"\")"
   ]
  },
  {
   "cell_type": "code",
   "execution_count": 1145,
   "id": "f4730adb",
   "metadata": {},
   "outputs": [],
   "source": [
    "# Set up the discount factor\n",
    "GAMMA = 0.7 # defined as a global variable, so you can easily change it if needed.\n",
    "\n",
    "#For each action, computes the effect of the action, and update discounted reward for that action\n",
    "def Q_from_V(env, s, value_function):\n",
    "    action_values = np.zeros(env.nA)\n",
    "    for a in range(env.nA):\n",
    "        for p, next_s, reward, _ in env.P[s][a]:\n",
    "            action_values[a] += p * (reward + GAMMA * value_function[next_s])   # a += 1 is the same than a = a+1\n",
    "    return action_values\n",
    "\n",
    "# Compute the expected state-value according to the action policy, \n",
    "# where the weights are the associated probabilities agent.probs\n",
    "def weighted_action_value(env, agent, action_values, s):\n",
    "    weighted_value = 0\n",
    "    action_set = range(agent.nA)\n",
    "    for action in action_set:\n",
    "        weighted_value += agent.probs[s , action] * action_values[action] \n",
    "    return weighted_value\n",
    "\n",
    "def Bellman_equation_RHS(env, agent, old_value_function):    #the righthand side of the Bellman Equation for V\n",
    "    value_function = np.zeros(env.nS)\n",
    "    for s in range(env.nS):\n",
    "        if env.is_terminal(s):\n",
    "            value_function[s] = 0.0\n",
    "        else:\n",
    "            action_values = Q_from_V(env, s, old_value_function)\n",
    "            value_function[s] = weighted_action_value(env, agent, action_values, s)\n",
    "    return value_function\n",
    "\n"
   ]
  },
  {
   "cell_type": "markdown",
   "id": "324a080b",
   "metadata": {},
   "source": [
    "### Task 1.2"
   ]
  },
  {
   "cell_type": "markdown",
   "id": "c7b6fc78",
   "metadata": {},
   "source": [
    "The following function will compute the Iterative Policy Evaluation algorithm. **Yor task is to complete the following function where it says `# YOUR CODE HERE`**"
   ]
  },
  {
   "cell_type": "code",
   "execution_count": 1146,
   "id": "8e1bd46b",
   "metadata": {},
   "outputs": [],
   "source": [
    "def policy_evaluation(env, agent, old_value, attempts=20, tol=1e-6):  \n",
    "    # attempts is written in case we don't converge fast enough. Probably not an issue for this problem, \n",
    "    # but for others it may be relevant\n",
    "    # old_value - we store the previous value here\n",
    "    for i in range(attempts):\n",
    "        # YOUR CODE HERE (you need to define how new_value is computed. You can the functions from Task 1.1)\n",
    "        new_value = Bellman_equation_RHS(env, agent, old_value)\n",
    "        if np.max(np.abs(new_value-old_value)) < tol:\n",
    "            break\n",
    "        old_value = new_value\n",
    "    return new_value"
   ]
  },
  {
   "cell_type": "code",
   "execution_count": 1147,
   "id": "c29c0df8",
   "metadata": {},
   "outputs": [
    {
     "data": {
      "text/plain": [
       "array([-3.30695961, -3.24847952, -3.04749791, -3.32380528, -3.105978  ,\n",
       "       -2.3586414 , -3.3282895 , -2.43396716,  0.        ])"
      ]
     },
     "execution_count": 1147,
     "metadata": {},
     "output_type": "execute_result"
    }
   ],
   "source": [
    "policy_evaluation(env_GW, agent_uniform, np.zeros(env_GW.nS))"
   ]
  },
  {
   "cell_type": "markdown",
   "id": "10518a48",
   "metadata": {},
   "source": [
    "### Task 1.3"
   ]
  },
  {
   "cell_type": "markdown",
   "id": "3f434d69",
   "metadata": {},
   "source": [
    "The following function will compute a *Policy Improvement* over the current policy $\\pi$.\n",
    "\n",
    "**Your task is to write that function.** HINT: you can use the function `Q_from_V` from **Task 1.1** to create the new policy."
   ]
  },
  {
   "cell_type": "code",
   "execution_count": 1148,
   "id": "27136553",
   "metadata": {},
   "outputs": [],
   "source": [
    "def policy_improvement(env, agent, value_function):\n",
    "    new_probs = np.ones([env.nS, env.nA]) / env.nA\n",
    "    stable_policy = False\n",
    "    for s in range(env.nS):\n",
    "        # Choose the best action in a current state under current policy\n",
    "        current_action = np.argmax(new_probs[s])\n",
    "        # Look one step ahead and evaluate if current action is optimal\n",
    "        # We will try every possible action in a current state\n",
    "        action_value = Q_from_V(env, s, value_function)\n",
    "        # Select a better action\n",
    "        best_action = np.argmax(action_value)\n",
    "        # If action didn't change\n",
    "        if current_action != best_action:\n",
    "            stable_policy = True\n",
    "            # Greedy policy update\n",
    "            new_probs[s] = np.eye(env.nA)[best_action]\n",
    "    agent.probs = new_probs\n",
    "    return new_probs, stable_policy\n",
    "# this function does not return anything, it just modifies the probabilities of the agent according to the \n",
    "# improved policy. You can also create an alternative version where the new policy is returned."
   ]
  },
  {
   "cell_type": "markdown",
   "id": "d60676ce",
   "metadata": {},
   "source": [
    "### Task 1.4"
   ]
  },
  {
   "cell_type": "markdown",
   "id": "6b8d660c",
   "metadata": {},
   "source": [
    "The following function should combined both functions from  **Task 1.2** and **Task 1.3** to create a Policy Iteration Algorithm.\n",
    "\n",
    "**Your task is to write that function**. It should return both the Optimal Policy and the Optimal State Value Function. \n",
    "\n",
    "You can do this in more than one cell. For example use the following function to compute the optimal state value $v$, use that to obtain the optimal action value  $q$, and with that define the optimal policy. But you also can do it in one step."
   ]
  },
  {
   "cell_type": "code",
   "execution_count": 1149,
   "id": "f178922d",
   "metadata": {},
   "outputs": [],
   "source": [
    "def policy_iteration(env, agent, value_function, MaxIter=1000, tol=1e-6): \n",
    "    #run it until no changes (tol) or until we run out of time (MaxIter)\n",
    "    optimal_value_function = value_function   #initialisation\n",
    "    optimal_policy = np.ones([env.nS, env.nA]) / env.nA  #  initialisation\n",
    "    policy_stable = False\n",
    "    i = 0\n",
    "    while (not policy_stable) and (i<=MaxIter):\n",
    "        i += 1\n",
    "        # Run the policy evaluation\n",
    "        optimal_value_function = policy_evaluation(env, agent, optimal_value_function)\n",
    "        # Run the policy improvement algorithm\n",
    "        optimal_policy, stable_policy = policy_improvement(env, agent, optimal_value_function)\n",
    "    return optimal_policy, optimal_value_function  "
   ]
  },
  {
   "cell_type": "code",
   "execution_count": 1150,
   "id": "4b2dceac",
   "metadata": {},
   "outputs": [
    {
     "name": "stdout",
     "output_type": "stream",
     "text": [
      "  (Down)\n",
      "FFF\n",
      "FWF\n",
      "SW\u001b[41mG\u001b[0m\n",
      "Time step: 6\n",
      "State: 8\n",
      "Action: 1\n",
      "Total reward: -6.0\n"
     ]
    }
   ],
   "source": [
    "policy_iteration(env_GW, agent_uniform, np.zeros(env_GW.nS))\n",
    "run_agent(env_GW,agent_uniform)"
   ]
  },
  {
   "cell_type": "markdown",
   "id": "c900f02f",
   "metadata": {},
   "source": [
    "### Task 1.5\n",
    "Similar to the previous point the following function is the Value Iteration Algorithm\n",
    "\n",
    "**Your task is to create that function**. The procedure should be similar to **Task 1.4** but you merged a couple of steps (sweeps) into one.  You should provide the Optimal State Function and the respective Optimal Policy.\n",
    "\n"
   ]
  },
  {
   "cell_type": "code",
   "execution_count": 1151,
   "id": "d5fb51b0",
   "metadata": {},
   "outputs": [],
   "source": [
    "def value_iteration(env, agent, value_function, MaxIter=1000, tol=1e-6):\n",
    "    optimal_value_function = value_function   #initialisation\n",
    "    optimal_policy = np.ones([env.nS, env.nA]) / env.nA  #  initialisation\n",
    "    for _ in range(MaxIter):\n",
    "        for s in range(env.nS):\n",
    "            optimal_value_function = Bellman_equation_RHS(env, agent, value_function)\n",
    "            optimal_policy[s,:] = Q_from_V(env, s, value_function)\n",
    "        if np.max(np.abs(optimal_value_function-value_function)) < tol:\n",
    "            break\n",
    "        value_function = optimal_value_function\n",
    "    ind = np.argwhere(optimal_policy==np.amax(optimal_policy,1, keepdims=True))\n",
    "    x = list(map(tuple, ind))\n",
    "    optimal_p = []\n",
    "    for i in range(len(x)):\n",
    "        optimal_p.append(x[i][1])\n",
    "    return optimal_value_function"
   ]
  },
  {
   "cell_type": "markdown",
   "id": "7960c261",
   "metadata": {},
   "source": [
    "### Task 1.6 Testing Gridworld\n",
    "\n",
    "Now that you have created the functions is time to test them on the environment. \n",
    "\n",
    "**Your task is to try different values of GAMMA and compare both Value Iteration and Policy Iteration on it**\n",
    "\n",
    "Write as many comments as you consider necessary, include some plots (for example use the function `plot_values` to display the state and action value functions)"
   ]
  },
  {
   "cell_type": "code",
   "execution_count": 1152,
   "id": "84e3f467",
   "metadata": {},
   "outputs": [
    {
     "name": "stdout",
     "output_type": "stream",
     "text": [
      "Initial state: 6\n",
      "State space: Discrete(9)\n",
      "Action space: Discrete(4)\n",
      "\n",
      "FFF\n",
      "FWF\n",
      "\u001b[41mS\u001b[0mWG\n"
     ]
    }
   ],
   "source": [
    "env_GW = gym.make('GridWorld-3x3-Wall-v0')\n",
    "state = env_GW.reset()  #will set the agent into a random initial state\n",
    "print('Initial state:', state) #reminder: python starts counting from 0\n",
    "print(\"State space:\", env_GW.observation_space) # observations and states will be the same for us in this module\n",
    "print(\"Action space:\", env_GW.action_space) # all the available actions and their type: discrete or continuous\n",
    "env_GW.render()"
   ]
  },
  {
   "cell_type": "code",
   "execution_count": 1153,
   "id": "32dfa2bf",
   "metadata": {},
   "outputs": [
    {
     "name": "stdout",
     "output_type": "stream",
     "text": [
      "  (Down)\n",
      "FFF\n",
      "FWF\n",
      "SW\u001b[41mG\u001b[0m\n",
      "Time step: 97\n",
      "State: 8\n",
      "Action: 1\n",
      "Total reward: -97.0\n"
     ]
    }
   ],
   "source": [
    "agent1 = RandomAgent(env_GW.nA, env_GW.nS)\n",
    "run_agent(env_GW, agent1, tsleep = 0.05)"
   ]
  },
  {
   "cell_type": "code",
   "execution_count": 1154,
   "id": "2faa9626",
   "metadata": {},
   "outputs": [
    {
     "name": "stdout",
     "output_type": "stream",
     "text": [
      "  (Down)\n",
      "FFF\n",
      "FWF\n",
      "SW\u001b[41mG\u001b[0m\n",
      "Time step: 6\n",
      "State: 8\n",
      "Action: 1\n",
      "Total reward: -6.0\n"
     ]
    }
   ],
   "source": [
    "#YOUR CODE HERE: Improve agent1 policy using POLICY iteration algorithm and run the improved agent again \n",
    "# (you can do many runs to observe the improvement step by step)\n",
    "agent1 = RandomAgent(env_GW.nA, env_GW.nS)\n",
    "policy_iteration(env_GW, agent1, np.ones(env_GW.nS))\n",
    "run_agent(env_GW, agent1, tsleep = 0.05)"
   ]
  },
  {
   "cell_type": "code",
   "execution_count": 1155,
   "id": "66d7bc1b",
   "metadata": {},
   "outputs": [
    {
     "name": "stdout",
     "output_type": "stream",
     "text": [
      "  (Down)\n",
      "FFF\n",
      "FWF\n",
      "SW\u001b[41mG\u001b[0m\n",
      "Time step: 41\n",
      "State: 8\n",
      "Action: 1\n",
      "Total reward: -41.0\n"
     ]
    }
   ],
   "source": [
    "agent2 = RandomAgent(env_GW.nA, env_GW.nS)\n",
    "#YOUR CODE HERE: Improve agent2 policy using VALUE iteration algorithm and run the improved agent again \n",
    "# (you can do many runs to observe the improvement step by step)\n",
    "value_iteration(env_GW, agent1, np.ones(env_GW.nS))\n",
    "run_agent(env_GW, agent2, tsleep = 0.05)"
   ]
  },
  {
   "cell_type": "markdown",
   "id": "b10e266d",
   "metadata": {},
   "source": [
    "**Question** Can you measure which method find the optimal policy faster? (if any)\n",
    "\n",
    "**Ans:** It seems policy iteration method reflects better performance with this sample problem."
   ]
  },
  {
   "cell_type": "markdown",
   "id": "83db1321",
   "metadata": {},
   "source": [
    "###  Frozen Lake environment"
   ]
  },
  {
   "cell_type": "code",
   "execution_count": 1156,
   "id": "88c49672",
   "metadata": {},
   "outputs": [
    {
     "name": "stdout",
     "output_type": "stream",
     "text": [
      "Initial state: 0\n",
      "State space: Discrete(16)\n",
      "Action space: Discrete(4)\n",
      "\n",
      "\u001b[41mS\u001b[0mFFF\n",
      "FHFH\n",
      "FFFH\n",
      "HFFG\n"
     ]
    }
   ],
   "source": [
    "env_FL = gym.make('FrozenLake-v1',is_slippery=False)\n",
    "state = env_FL.reset()  #will set the agent into a random initial state\n",
    "print('Initial state:', state) #reminder: python starts counting from 0\n",
    "print(\"State space:\", env_FL.observation_space) # observations and states will be the same for us in this module\n",
    "print(\"Action space:\", env_FL.action_space) # all the available actions and their type: discrete or continuous\n",
    "env_FL.render()"
   ]
  },
  {
   "cell_type": "markdown",
   "id": "d46e0a77",
   "metadata": {},
   "source": [
    "`FrozenLake-v1` is an environment that simulates the following situation: imagine your agent wants to grab something on the other side of the Frozen Lake. Most of the lake is frozen, but there are a couple of cells with thin ice (holes) that will break if it steps on them. The objective is to arrive to the goal as quick as possible without falling into any holes.\n",
    "There are more than one terminal state: either reaches the goal or falls into the hole.  Every transition has a `reward=0` except when the agent reaches the goal, which has  `reward=1`.\n",
    "\n",
    "By default FrozenLake comes with the attribute `is_slippery = True` which means that even if the agent decides to go (for example) `right`, it might end up `up, left, down` to its current position (with certain probability). For simplicity we will call the environment with the parameter `is_slippery = False` (deterministic case), but you are welcome to explore the general case if you have time.\n",
    "\n",
    "1. **S**: Starting Point\n",
    "2. **G**: Goal\n",
    "3. **F**: Frozen (safe cell that the agent can step on it)\n",
    "4. **H**: Hole (thin ice that will break if the agent steps on it will die) \n",
    "\n",
    "As usual, actions are given by `left = 0, down = 1, right =1, up = 3`.\n",
    "\n",
    "The function `env_FL.P[s][a]` will provide the set of [probability, new_state, reward,done]. I say **set**, because in the *slippery* case, it provides all the different options. In the non-slippery case it will give a single vector."
   ]
  },
  {
   "cell_type": "code",
   "execution_count": 1157,
   "id": "c9ce5370",
   "metadata": {},
   "outputs": [
    {
     "name": "stdout",
     "output_type": "stream",
     "text": [
      "[(1.0, 9, 0.0, False)]\n"
     ]
    }
   ],
   "source": [
    "current_state = 10  \n",
    "action = 0  # Left \n",
    "#[(probability, new_state, reward, done)] = env_FL.P[current_state][action]\n",
    "print(env_FL.P[current_state][action])\n",
    "\n"
   ]
  },
  {
   "cell_type": "markdown",
   "id": "40a3255a",
   "metadata": {},
   "source": [
    "Let us create a random agent and see how it performs."
   ]
  },
  {
   "cell_type": "code",
   "execution_count": 1158,
   "id": "c9f51d07",
   "metadata": {},
   "outputs": [
    {
     "name": "stdout",
     "output_type": "stream",
     "text": [
      "  (Down)\n",
      "SFFF\n",
      "F\u001b[41mH\u001b[0mFH\n",
      "FFFH\n",
      "HFFG\n",
      "Time step: 4\n",
      "State: 5\n",
      "Action: 1\n",
      "Total reward: 0.0\n"
     ]
    }
   ],
   "source": [
    "agent3 = RandomAgent(env_FL.nA, env_FL.nS)\n",
    "run_agent(env_FL, agent3, tsleep = 0.5) #if the agent dies too quickly, increase the value of tsleep to observe the transitions"
   ]
  },
  {
   "cell_type": "code",
   "execution_count": 1159,
   "id": "aca2b00c",
   "metadata": {},
   "outputs": [
    {
     "data": {
      "image/png": "[encoded data removed]",
      "text/plain": [
       "<Figure size 576x576 with 2 Axes>"
      ]
     },
     "metadata": {
      "needs_background": "light"
     },
     "output_type": "display_data"
    }
   ],
   "source": [
    "#agent3.probs[:,1]=.1\n",
    "#agent3.probs[2,3] =.8\n",
    "plot_values(agent3.probs, size=(env_FL.nS, env_FL.nA), name = 'Policy')\n"
   ]
  },
  {
   "cell_type": "markdown",
   "id": "07e1f4c4",
   "metadata": {},
   "source": [
    "### Task 1.7 Testing Frozen Lake"
   ]
  },
  {
   "cell_type": "markdown",
   "id": "4bc23c87",
   "metadata": {},
   "source": [
    "Similar to the case of GridWorld, **your task improve the policy of Agent3 using both Policy Iteration and Value Iteration**.\n",
    "Play around with the parameters (GAMMA, MaxIter) to see if they have any effect on avoiding the death of your agent."
   ]
  },
  {
   "cell_type": "code",
   "execution_count": 1160,
   "id": "1e7b0837",
   "metadata": {},
   "outputs": [
    {
     "name": "stdout",
     "output_type": "stream",
     "text": [
      "  (Up)\n",
      "SF\u001b[41mF\u001b[0mF\n",
      "FHFH\n",
      "FFFH\n",
      "HFFG\n",
      "Time step: 100\n",
      "State: 2\n",
      "Action: 3\n",
      "Total reward: 0.0\n"
     ]
    }
   ],
   "source": [
    "policy_iteration(env_GW, agent3, np.ones(env_GW.nS))\n",
    "run_agent(env_FL, agent3, tsleep=0.05)"
   ]
  },
  {
   "cell_type": "code",
   "execution_count": 1161,
   "id": "982e670b",
   "metadata": {},
   "outputs": [
    {
     "name": "stdout",
     "output_type": "stream",
     "text": [
      "  (Up)\n",
      "SF\u001b[41mF\u001b[0mF\n",
      "FHFH\n",
      "FFFH\n",
      "HFFG\n",
      "Time step: 100\n",
      "State: 2\n",
      "Action: 3\n",
      "Total reward: 0.0\n"
     ]
    }
   ],
   "source": [
    "value_iteration(env_GW, agent3, np.ones(env_GW.nS))\n",
    "run_agent(env_FL, agent3, tsleep=0.05)"
   ]
  },
  {
   "cell_type": "markdown",
   "id": "54f6afbf",
   "metadata": {},
   "source": [
    "Changing value of GAMA(from 0.02, 0.5, 0.2, 0.4, 0.7, 1.0) and maxIter does not affect the convergence of Frozen Lake game. It seems both method may need some correction to enable them to beat this game."
   ]
  },
  {
   "cell_type": "code",
   "execution_count": null,
   "id": "ce2fabfa",
   "metadata": {},
   "outputs": [],
   "source": []
  },
  {
   "cell_type": "code",
   "execution_count": null,
   "id": "d0e3bb68",
   "metadata": {},
   "outputs": [],
   "source": []
  },
  {
   "cell_type": "code",
   "execution_count": null,
   "id": "5c62f038",
   "metadata": {},
   "outputs": [],
   "source": []
  },
  {
   "cell_type": "code",
   "execution_count": null,
   "id": "9c95e4d7",
   "metadata": {},
   "outputs": [],
   "source": []
  }
 ],
 "metadata": {
  "kernelspec": {
   "display_name": "Python 3",
   "language": "python",
   "name": "python3"
  },
  "language_info": {
   "codemirror_mode": {
    "name": "ipython",
    "version": 3
   },
   "file_extension": ".py",
   "mimetype": "text/x-python",
   "name": "python",
   "nbconvert_exporter": "python",
   "pygments_lexer": "ipython3",
   "version": "3.8.8"
  }
 },
 "nbformat": 4,
 "nbformat_minor": 5
}
